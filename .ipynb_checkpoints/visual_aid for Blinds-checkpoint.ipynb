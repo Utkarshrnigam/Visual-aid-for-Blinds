{
 "cells": [
  {
   "cell_type": "code",
   "execution_count": 82,
   "metadata": {},
   "outputs": [],
   "source": [
    "import pandas as pd\n",
    "import json\n",
    "import re\n",
    "import collections"
   ]
  },
  {
   "cell_type": "code",
   "execution_count": 83,
   "metadata": {},
   "outputs": [],
   "source": [
    "# collecting caption data from json file\n",
    "\n",
    "def collectCaption(path):\n",
    "    with open(path) as f:\n",
    "        captions = json.load(f)\n",
    "    return captions"
   ]
  },
  {
   "cell_type": "code",
   "execution_count": 84,
   "metadata": {},
   "outputs": [
    {
     "ename": "FileNotFoundError",
     "evalue": "[Errno 2] No such file or directory: './Data/annotations/captions_train2017.json'",
     "output_type": "error",
     "traceback": [
      "\u001b[1;31m---------------------------------------------------------------------------\u001b[0m",
      "\u001b[1;31mFileNotFoundError\u001b[0m                         Traceback (most recent call last)",
      "\u001b[1;32m<ipython-input-84-30dfe3645f2b>\u001b[0m in \u001b[0;36m<module>\u001b[1;34m\u001b[0m\n\u001b[1;32m----> 1\u001b[1;33m \u001b[0mcaptions\u001b[0m \u001b[1;33m=\u001b[0m \u001b[0mcollectCaption\u001b[0m\u001b[1;33m(\u001b[0m\u001b[1;34m\"./Data/annotations/captions_train2017.json\"\u001b[0m\u001b[1;33m)\u001b[0m\u001b[1;33m\u001b[0m\u001b[1;33m\u001b[0m\u001b[0m\n\u001b[0m",
      "\u001b[1;32m<ipython-input-83-44850e29ca61>\u001b[0m in \u001b[0;36mcollectCaption\u001b[1;34m(path)\u001b[0m\n\u001b[0;32m      2\u001b[0m \u001b[1;33m\u001b[0m\u001b[0m\n\u001b[0;32m      3\u001b[0m \u001b[1;32mdef\u001b[0m \u001b[0mcollectCaption\u001b[0m\u001b[1;33m(\u001b[0m\u001b[0mpath\u001b[0m\u001b[1;33m)\u001b[0m\u001b[1;33m:\u001b[0m\u001b[1;33m\u001b[0m\u001b[1;33m\u001b[0m\u001b[0m\n\u001b[1;32m----> 4\u001b[1;33m     \u001b[1;32mwith\u001b[0m \u001b[0mopen\u001b[0m\u001b[1;33m(\u001b[0m\u001b[0mpath\u001b[0m\u001b[1;33m)\u001b[0m \u001b[1;32mas\u001b[0m \u001b[0mf\u001b[0m\u001b[1;33m:\u001b[0m\u001b[1;33m\u001b[0m\u001b[1;33m\u001b[0m\u001b[0m\n\u001b[0m\u001b[0;32m      5\u001b[0m         \u001b[0mcaptions\u001b[0m \u001b[1;33m=\u001b[0m \u001b[0mjson\u001b[0m\u001b[1;33m.\u001b[0m\u001b[0mload\u001b[0m\u001b[1;33m(\u001b[0m\u001b[0mf\u001b[0m\u001b[1;33m)\u001b[0m\u001b[1;33m\u001b[0m\u001b[1;33m\u001b[0m\u001b[0m\n\u001b[0;32m      6\u001b[0m     \u001b[1;32mreturn\u001b[0m \u001b[0mcaptions\u001b[0m\u001b[1;33m\u001b[0m\u001b[1;33m\u001b[0m\u001b[0m\n",
      "\u001b[1;31mFileNotFoundError\u001b[0m: [Errno 2] No such file or directory: './Data/annotations/captions_train2017.json'"
     ]
    }
   ],
   "source": [
    "captions = collectCaption(\"./Data/annotations/captions_train2017.json\")"
   ]
  },
  {
   "cell_type": "code",
   "execution_count": 85,
   "metadata": {},
   "outputs": [
    {
     "name": "stdout",
     "output_type": "stream",
     "text": [
      "dict_keys(['info', 'licenses', 'images', 'annotations'])\n"
     ]
    }
   ],
   "source": [
    "print(captions.keys())"
   ]
  },
  {
   "cell_type": "code",
   "execution_count": 86,
   "metadata": {},
   "outputs": [],
   "source": [
    "# mapping ids to its images.\n",
    "id_img = {}\n",
    "for x in captions['images']:\n",
    "#     c +=1\n",
    "    id_img[str(x['id'])] = x['file_name']\n",
    "#     if c==10:\n",
    "    "
   ]
  },
  {
   "cell_type": "code",
   "execution_count": 87,
   "metadata": {},
   "outputs": [
    {
     "name": "stdout",
     "output_type": "stream",
     "text": [
      "000000391895.jpg\n"
     ]
    }
   ],
   "source": [
    "print(id_img[\"391895\"])"
   ]
  },
  {
   "cell_type": "code",
   "execution_count": 88,
   "metadata": {},
   "outputs": [],
   "source": [
    "description = {}\n",
    "for anno in captions['annotations']:\n",
    "    img_id = str(anno['image_id'])\n",
    "    cap = anno['caption']\n",
    "    \n",
    "    img_name = id_img[img_id]\n",
    "    if description.get(img_name) is None:\n",
    "        description[img_name] = []\n",
    "    if len(description[img_name]) <= 5:\n",
    "        description[img_name].append(cap)\n",
    "    "
   ]
  },
  {
   "cell_type": "code",
   "execution_count": 89,
   "metadata": {},
   "outputs": [
    {
     "data": {
      "text/plain": [
       "['A woman wearing a net on her head cutting a cake. ',\n",
       " 'A woman cutting a large white sheet cake.',\n",
       " 'A woman wearing a hair net cutting a large sheet cake.',\n",
       " 'there is a woman that is cutting a white cake',\n",
       " \"A woman marking a cake with the back of a chef's knife. \"]"
      ]
     },
     "execution_count": 89,
     "metadata": {},
     "output_type": "execute_result"
    }
   ],
   "source": [
    "description['000000522418.jpg']"
   ]
  },
  {
   "cell_type": "code",
   "execution_count": 90,
   "metadata": {},
   "outputs": [],
   "source": [
    "# data cleaning\n",
    "\n",
    "def clean_text(sent):\n",
    "    sent = sent.lower()\n",
    "    sent = re.sub(\"[^a-z]+\",\" \",sent)\n",
    "    sent = sent.split()\n",
    "    \n",
    "    sent = [s for s in sent if len(s)>1]\n",
    "    sent = \" \".join(sent)\n",
    "    return sent"
   ]
  },
  {
   "cell_type": "code",
   "execution_count": 91,
   "metadata": {},
   "outputs": [],
   "source": [
    "# cleaning description\n",
    "\n",
    "for key,caption_list in description.items():\n",
    "    for i in range(len(caption_list)):\n",
    "        caption_list[i] = clean_text(caption_list[i])"
   ]
  },
  {
   "cell_type": "code",
   "execution_count": 92,
   "metadata": {},
   "outputs": [
    {
     "data": {
      "text/plain": [
       "['woman wearing net on her head cutting cake',\n",
       " 'woman cutting large white sheet cake',\n",
       " 'woman wearing hair net cutting large sheet cake',\n",
       " 'there is woman that is cutting white cake',\n",
       " 'woman marking cake with the back of chef knife']"
      ]
     },
     "execution_count": 92,
     "metadata": {},
     "output_type": "execute_result"
    }
   ],
   "source": [
    "description['000000522418.jpg']"
   ]
  },
  {
   "cell_type": "code",
   "execution_count": 93,
   "metadata": {},
   "outputs": [],
   "source": [
    "with open(\"discription.txt\",\"w\") as f:\n",
    "    f.write(str(description))"
   ]
  },
  {
   "cell_type": "code",
   "execution_count": 94,
   "metadata": {},
   "outputs": [],
   "source": [
    "# create a vocab\n",
    "description = None\n",
    "with open(\"discription.txt\",\"r\") as f:\n",
    "    description = f.read()\n",
    "json_acceptable_string = description.replace(\"'\",\"\\\"\")\n",
    "description = json.loads(json_acceptable_string)\n"
   ]
  },
  {
   "cell_type": "code",
   "execution_count": 95,
   "metadata": {},
   "outputs": [
    {
     "data": {
      "text/plain": [
       "['woman wearing net on her head cutting cake',\n",
       " 'woman cutting large white sheet cake',\n",
       " 'woman wearing hair net cutting large sheet cake',\n",
       " 'there is woman that is cutting white cake',\n",
       " 'woman marking cake with the back of chef knife']"
      ]
     },
     "execution_count": 95,
     "metadata": {},
     "output_type": "execute_result"
    }
   ],
   "source": [
    "description['000000522418.jpg']"
   ]
  },
  {
   "cell_type": "code",
   "execution_count": 96,
   "metadata": {},
   "outputs": [
    {
     "name": "stdout",
     "output_type": "stream",
     "text": [
      "26440\n"
     ]
    }
   ],
   "source": [
    "# vocab\n",
    "\n",
    "vocab = set()\n",
    "for key in description.keys():\n",
    "    [vocab.update(sent.split()) for sent in description[key]]\n",
    "print(len(vocab))"
   ]
  },
  {
   "cell_type": "code",
   "execution_count": 97,
   "metadata": {},
   "outputs": [
    {
     "name": "stdout",
     "output_type": "stream",
     "text": [
      "5210675\n"
     ]
    }
   ],
   "source": [
    "# total no. of words accross the descriptionabs\n",
    "total_words = []\n",
    "\n",
    "for key in description.keys():\n",
    "    [total_words.append(i) for des in description[key] for i in des.split()]\n",
    "print(len(total_words))"
   ]
  },
  {
   "cell_type": "code",
   "execution_count": null,
   "metadata": {},
   "outputs": [],
   "source": [
    "counter = collections.Counter(total_words)\n",
    "freq_cnt = dict(counter)\n",
    "print(len(freq_cnt))"
   ]
  },
  {
   "cell_type": "code",
   "execution_count": null,
   "metadata": {},
   "outputs": [],
   "source": [
    "sorted_freq_cnt = sorted(freq_cnt.items(),reverse=True, key=lambda x:x[1])\n",
    "\n",
    "#filter\n",
    "threshold = 4\n",
    "sorted_freq_cnt = [x for x in sorted_freq_cnt if x[1]>threshold]\n",
    "total_words = [x[0] for x in sorted_freq_cnt]\n"
   ]
  },
  {
   "cell_type": "code",
   "execution_count": null,
   "metadata": {},
   "outputs": [],
   "source": [
    "print(len(total_words))"
   ]
  },
  {
   "cell_type": "code",
   "execution_count": null,
   "metadata": {},
   "outputs": [],
   "source": [
    "# creatind train images\n",
    "train_img_id = []\n",
    "for key,img in id_img.items():\n",
    "    train_img_id.append(img)"
   ]
  },
  {
   "cell_type": "code",
   "execution_count": null,
   "metadata": {},
   "outputs": [],
   "source": [
    "len(train_img_id)"
   ]
  },
  {
   "cell_type": "code",
   "execution_count": null,
   "metadata": {},
   "outputs": [],
   "source": [
    "# prepare Description for the Training Data\n",
    "# Tweak - Add <s> and <e> toen to our traing data\n",
    "\n",
    "train_descriptions = {}\n",
    "\n",
    "for img_id in train_img_id:\n",
    "    train_descriptions[img_id] = []\n",
    "    for cap in description[img_id]:\n",
    "        cap_to_append = \"<s> \" + cap + \" <e>\"\n",
    "        train_descriptions[img_id].append(cap_to_append)"
   ]
  },
  {
   "cell_type": "code",
   "execution_count": null,
   "metadata": {},
   "outputs": [],
   "source": [
    "train_descriptions[\"000000391895.jpg\"]"
   ]
  },
  {
   "cell_type": "code",
   "execution_count": null,
   "metadata": {},
   "outputs": [],
   "source": [
    "# Transfer Learning\n",
    "# - images-->Features\n",
    "\n"
   ]
  }
 ],
 "metadata": {
  "kernelspec": {
   "display_name": "ML_GPU",
   "language": "python",
   "name": "ml_gpu"
  },
  "language_info": {
   "codemirror_mode": {
    "name": "ipython",
    "version": 3
   },
   "file_extension": ".py",
   "mimetype": "text/x-python",
   "name": "python",
   "nbconvert_exporter": "python",
   "pygments_lexer": "ipython3",
   "version": "3.7.4"
  }
 },
 "nbformat": 4,
 "nbformat_minor": 2
}
