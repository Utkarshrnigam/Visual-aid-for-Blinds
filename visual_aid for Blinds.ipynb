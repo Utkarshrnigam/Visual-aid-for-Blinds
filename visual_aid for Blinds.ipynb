{
 "cells": [
  {
   "cell_type": "code",
   "execution_count": 49,
   "metadata": {},
   "outputs": [],
   "source": [
    "import pandas as pd\n",
    "import json\n",
    "import re\n",
    "import collections"
   ]
  },
  {
   "cell_type": "code",
   "execution_count": 50,
   "metadata": {},
   "outputs": [],
   "source": [
    "# collecting caption data from json file\n",
    "\n",
    "def collectCaption(path):\n",
    "    with open(path) as f:\n",
    "        captions = json.load(f)\n",
    "    return captions"
   ]
  },
  {
   "cell_type": "code",
   "execution_count": 51,
   "metadata": {},
   "outputs": [],
   "source": [
    "captions = collectCaption(\"./Data/annotations/captions_train2017.json\")"
   ]
  },
  {
   "cell_type": "code",
   "execution_count": 52,
   "metadata": {},
   "outputs": [
    {
     "name": "stdout",
     "output_type": "stream",
     "text": [
      "dict_keys(['info', 'licenses', 'images', 'annotations'])\n"
     ]
    }
   ],
   "source": [
    "print(captions.keys())"
   ]
  },
  {
   "cell_type": "code",
   "execution_count": 56,
   "metadata": {},
   "outputs": [],
   "source": [
    "# mapping ids to its images.\n",
    "id_img = {}\n",
    "for x in captions['images']:\n",
    "#     c +=1\n",
    "    id_img[str(x['id'])] = x['file_name']\n",
    "#     if c==10:\n",
    "    "
   ]
  },
  {
   "cell_type": "code",
   "execution_count": 58,
   "metadata": {},
   "outputs": [
    {
     "name": "stdout",
     "output_type": "stream",
     "text": [
      "000000391895.jpg\n"
     ]
    }
   ],
   "source": [
    "print(id_img[\"391895\"])"
   ]
  },
  {
   "cell_type": "code",
   "execution_count": 60,
   "metadata": {},
   "outputs": [],
   "source": [
    "description = {}\n",
    "for anno in captions['annotations']:\n",
    "    img_id = str(anno['image_id'])\n",
    "    cap = anno['caption']\n",
    "    \n",
    "    img_name = id_img[img_id]\n",
    "    if description.get(img_name) is None:\n",
    "        description[img_name] = []\n",
    "    if len(description[img_name]) <= 5:\n",
    "        description[img_name].append(cap)\n",
    "    "
   ]
  },
  {
   "cell_type": "code",
   "execution_count": 61,
   "metadata": {},
   "outputs": [
    {
     "data": {
      "text/plain": [
       "['A woman wearing a net on her head cutting a cake. ',\n",
       " 'A woman cutting a large white sheet cake.',\n",
       " 'A woman wearing a hair net cutting a large sheet cake.',\n",
       " 'there is a woman that is cutting a white cake',\n",
       " \"A woman marking a cake with the back of a chef's knife. \"]"
      ]
     },
     "execution_count": 61,
     "metadata": {},
     "output_type": "execute_result"
    }
   ],
   "source": [
    "description['000000522418.jpg']"
   ]
  },
  {
   "cell_type": "code",
   "execution_count": 62,
   "metadata": {},
   "outputs": [],
   "source": [
    "# data cleaning\n",
    "\n",
    "def clean_text(sent):\n",
    "    sent = sent.lower()\n",
    "    sent = re.sub(\"[^a-z]+\",\" \",sent)\n",
    "    sent = sent.split()\n",
    "    \n",
    "    sent = [s for s in sent if len(s)>1]\n",
    "    sent = \" \".join(sent)\n",
    "    return sent"
   ]
  },
  {
   "cell_type": "code",
   "execution_count": 63,
   "metadata": {},
   "outputs": [],
   "source": [
    "# cleaning description\n",
    "\n",
    "for key,caption_list in description.items():\n",
    "    for i in range(len(caption_list)):\n",
    "        caption_list[i] = clean_text(caption_list[i])"
   ]
  },
  {
   "cell_type": "code",
   "execution_count": 23,
   "metadata": {},
   "outputs": [
    {
     "data": {
      "text/plain": [
       "['woman wearing net on her head cutting cake',\n",
       " 'woman cutting large white sheet cake',\n",
       " 'woman wearing hair net cutting large sheet cake',\n",
       " 'there is woman that is cutting white cake',\n",
       " 'woman marking cake with the back of chef knife']"
      ]
     },
     "execution_count": 23,
     "metadata": {},
     "output_type": "execute_result"
    }
   ],
   "source": [
    "description['000000522418.jpg']"
   ]
  },
  {
   "cell_type": "code",
   "execution_count": 64,
   "metadata": {},
   "outputs": [],
   "source": [
    "with open(\"discription.txt\",\"w\") as f:\n",
    "    f.write(str(description))"
   ]
  },
  {
   "cell_type": "code",
   "execution_count": 65,
   "metadata": {},
   "outputs": [],
   "source": [
    "# create a vocab\n",
    "description = None\n",
    "with open(\"discription.txt\",\"r\") as f:\n",
    "    description = f.read()\n",
    "json_acceptable_string = description.replace(\"'\",\"\\\"\")\n",
    "description = json.loads(json_acceptable_string)\n"
   ]
  },
  {
   "cell_type": "code",
   "execution_count": 66,
   "metadata": {},
   "outputs": [
    {
     "data": {
      "text/plain": [
       "['woman wearing net on her head cutting cake',\n",
       " 'woman cutting large white sheet cake',\n",
       " 'woman wearing hair net cutting large sheet cake',\n",
       " 'there is woman that is cutting white cake',\n",
       " 'woman marking cake with the back of chef knife']"
      ]
     },
     "execution_count": 66,
     "metadata": {},
     "output_type": "execute_result"
    }
   ],
   "source": [
    "description['000000522418.jpg']"
   ]
  },
  {
   "cell_type": "code",
   "execution_count": 67,
   "metadata": {},
   "outputs": [
    {
     "name": "stdout",
     "output_type": "stream",
     "text": [
      "26440\n"
     ]
    }
   ],
   "source": [
    "# vocab\n",
    "\n",
    "vocab = set()\n",
    "for key in description.keys():\n",
    "    [vocab.update(sent.split()) for sent in description[key]]\n",
    "print(len(vocab))"
   ]
  },
  {
   "cell_type": "code",
   "execution_count": 68,
   "metadata": {},
   "outputs": [
    {
     "name": "stdout",
     "output_type": "stream",
     "text": [
      "5210675\n"
     ]
    }
   ],
   "source": [
    "# total no. of words accross the descriptionabs\n",
    "total_words = []\n",
    "\n",
    "for key in description.keys():\n",
    "    [total_words.append(i) for des in description[key] for i in des.split()]\n",
    "print(len(total_words))"
   ]
  },
  {
   "cell_type": "code",
   "execution_count": 69,
   "metadata": {},
   "outputs": [
    {
     "name": "stdout",
     "output_type": "stream",
     "text": [
      "26440\n"
     ]
    }
   ],
   "source": [
    "counter = collections.Counter(total_words)\n",
    "freq_cnt = dict(counter)\n",
    "print(len(freq_cnt))"
   ]
  },
  {
   "cell_type": "code",
   "execution_count": 70,
   "metadata": {},
   "outputs": [],
   "source": [
    "sorted_freq_cnt = sorted(freq_cnt.items(),reverse=True, key=lambda x:x[1])\n",
    "\n",
    "#filter\n",
    "threshold = 4\n",
    "sorted_freq_cnt = [x for x in sorted_freq_cnt if x[1]>threshold]\n",
    "total_words = [x[0] for x in sorted_freq_cnt]\n"
   ]
  },
  {
   "cell_type": "code",
   "execution_count": 71,
   "metadata": {},
   "outputs": [
    {
     "name": "stdout",
     "output_type": "stream",
     "text": [
      "10100\n"
     ]
    }
   ],
   "source": [
    "print(len(total_words))"
   ]
  },
  {
   "cell_type": "code",
   "execution_count": 73,
   "metadata": {},
   "outputs": [],
   "source": [
    "# creatind train images\n",
    "train_img_id = []\n",
    "for key,img in id_img.items():\n",
    "    train_img_id.append(img)"
   ]
  },
  {
   "cell_type": "code",
   "execution_count": 77,
   "metadata": {},
   "outputs": [
    {
     "data": {
      "text/plain": [
       "118287"
      ]
     },
     "execution_count": 77,
     "metadata": {},
     "output_type": "execute_result"
    }
   ],
   "source": [
    "len(train_img_id)"
   ]
  },
  {
   "cell_type": "code",
   "execution_count": 80,
   "metadata": {},
   "outputs": [],
   "source": [
    "# prepare Description for the Training Data\n",
    "# Tweak - Add <s> and <e> toen to our traing data\n",
    "\n",
    "train_descriptions = {}\n",
    "\n",
    "for img_id in train_img_id:\n",
    "    train_descriptions[img_id] = []\n",
    "    for cap in description[img_id]:\n",
    "        cap_to_append = \"<s> \" + cap + \" <e>\"\n",
    "        train_descriptions[img_id].append(cap_to_append)"
   ]
  },
  {
   "cell_type": "code",
   "execution_count": 81,
   "metadata": {},
   "outputs": [
    {
     "data": {
      "text/plain": [
       "['<s> man with red helmet on small moped on dirt road <e>',\n",
       " '<s> man riding motor bike on dirt road on the countryside <e>',\n",
       " '<s> man riding on the back of motorcycle <e>',\n",
       " '<s> dirt path with young person on motor bike rests to the foreground of verdant area with bridge and background of cloud wreathed mountains <e>',\n",
       " '<s> man in red shirt and red hat is on motorcycle on hill side <e>']"
      ]
     },
     "execution_count": 81,
     "metadata": {},
     "output_type": "execute_result"
    }
   ],
   "source": [
    "train_descriptions[\"000000391895.jpg\"]"
   ]
  },
  {
   "cell_type": "code",
   "execution_count": null,
   "metadata": {},
   "outputs": [],
   "source": [
    "# Transfer Learning\n",
    "# - images-->Features\n",
    "\n"
   ]
  }
 ],
 "metadata": {
  "kernelspec": {
   "display_name": "ML_GPU",
   "language": "python",
   "name": "ml_gpu"
  },
  "language_info": {
   "codemirror_mode": {
    "name": "ipython",
    "version": 3
   },
   "file_extension": ".py",
   "mimetype": "text/x-python",
   "name": "python",
   "nbconvert_exporter": "python",
   "pygments_lexer": "ipython3",
   "version": "3.7.4"
  }
 },
 "nbformat": 4,
 "nbformat_minor": 2
}
